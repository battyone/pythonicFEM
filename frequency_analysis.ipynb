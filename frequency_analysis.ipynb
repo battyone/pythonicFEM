{
 "cells": [
  {
   "cell_type": "markdown",
   "metadata": {},
   "source": [
    "# Frequency analysis\n",
    "\n",
    "$$\n",
    "\\dot T = \\kappa \\, \\nabla^2 T + f\n",
    "$$\n",
    "\n",
    "\n",
    "$$\n",
    "T = \\tilde T \\, e^{iwt}\n",
    "$$\n",
    "\n",
    "\n",
    "$$\n",
    "iw\\, \\tilde T - \\kappa \\, \\nabla^2 \\tilde T = f\n",
    "$$\n",
    "\n",
    "$$\n",
    "\\int iw\\, \\tilde T \\, v\\, dx - \\kappa  \\int \\nabla^2 \\tilde T v\\, dx = \\int f v\\, dx\n",
    "$$\n",
    "\n",
    "$$\n",
    " +\\kappa \\int \\nabla \\tilde T \\nabla v\\, dx  - \\kappa \\int \\nabla T v \\, ds +  \\int iw\\, \\tilde T \\, v\\, dx = \\int f v\\, dx\n",
    "$$\n",
    "\n",
    "Longueur de la zone chauffé: $L=1$"
   ]
  },
  {
   "cell_type": "code",
   "execution_count": 1,
   "metadata": {},
   "outputs": [],
   "source": [
    "import dolfin as df\n",
    "import matplotlib.pyplot as plt\n",
    "\n",
    "import mshr"
   ]
  },
  {
   "cell_type": "code",
   "execution_count": 309,
   "metadata": {},
   "outputs": [],
   "source": [
    "# Geometry and Mesh\n",
    "domain_size = 7*2\n",
    "\n",
    "domain = mshr.Rectangle(df.Point(0, 0), df.Point(domain_size, .5))"
   ]
  },
  {
   "cell_type": "code",
   "execution_count": 328,
   "metadata": {},
   "outputs": [
    {
     "data": {
      "image/png": "[encoded data removed]",
      "text/plain": [
       "<matplotlib.figure.Figure at 0x7facf13dec50>"
      ]
     },
     "metadata": {
      "needs_background": "light"
     },
     "output_type": "display_data"
    }
   ],
   "source": [
    "mesh = mshr.generate_mesh(domain, 5)\n",
    "\n",
    "df.plot(mesh);"
   ]
  },
  {
   "cell_type": "markdown",
   "metadata": {},
   "source": [
    "## boundary conditions"
   ]
  },
  {
   "cell_type": "code",
   "execution_count": 329,
   "metadata": {},
   "outputs": [],
   "source": [
    "class SurfaceExt(df.SubDomain):\n",
    "    def inside(self, x, on_boundary):\n",
    "        return on_boundary and\\\n",
    "               df.near(x[0], 0, df.DOLFIN_EPS)"
   ]
  },
  {
   "cell_type": "code",
   "execution_count": 330,
   "metadata": {},
   "outputs": [],
   "source": [
    "surface_ext = SurfaceExt()"
   ]
  },
  {
   "cell_type": "code",
   "execution_count": 331,
   "metadata": {},
   "outputs": [],
   "source": [
    "# MeshFunctions marking boundary and cell parts\n",
    "boundary_markers = df.FacetFunction(\"size_t\", mesh)"
   ]
  },
  {
   "cell_type": "code",
   "execution_count": 332,
   "metadata": {},
   "outputs": [],
   "source": [
    "boundary_markers.set_all(0)\n",
    "surface_ext.mark(boundary_markers, 1)\n",
    "\n",
    "# boundary_markers.array()"
   ]
  },
  {
   "cell_type": "code",
   "execution_count": 333,
   "metadata": {},
   "outputs": [],
   "source": [
    "ds = df.Measure('ds', domain=mesh, subdomain_data=boundary_markers)"
   ]
  },
  {
   "cell_type": "markdown",
   "metadata": {},
   "source": [
    "https://fenics.readthedocs.io/projects/dolfin/en/2017.2.0/demos/cahn-hilliard/python/demo_cahn-hilliard.py.html"
   ]
  },
  {
   "cell_type": "code",
   "execution_count": 334,
   "metadata": {},
   "outputs": [],
   "source": [
    "P1 = df.FiniteElement(\"Lagrange\", mesh.ufl_cell(), 2)\n",
    "W = df.FunctionSpace(mesh, P1*P1)"
   ]
  },
  {
   "cell_type": "code",
   "execution_count": 335,
   "metadata": {},
   "outputs": [],
   "source": [
    "(u_r, u_i) = df.TrialFunctions(W)\n",
    "(v_r, v_i) = df.TestFunctions(W)\n",
    "\n",
    "grad = df.grad\n",
    "kappa = 1\n",
    "w = 2*kappa\n",
    "\n",
    "a_r = kappa*( df.inner(grad(u_r),grad(v_r))*df.dx - df.inner(grad(u_i),grad(v_i))*df.dx )\\\n",
    "      - w * u_i*v_i*df.dx\n",
    "a_i = kappa*( df.inner(grad(u_r),grad(v_i))*df.dx + df.inner(grad(u_i),grad(v_r))*df.dx )\\\n",
    "      + w * u_r*v_r*df.dx\n",
    "\n",
    "\n",
    "a = a_i + a_r"
   ]
  },
  {
   "cell_type": "code",
   "execution_count": 350,
   "metadata": {},
   "outputs": [],
   "source": [
    "# Define boundary condition\n",
    "\n",
    "bc_ampl = df.DirichletBC(W.sub(0), df.Constant(1.0), surface_ext)\n",
    "bc_phase = df.DirichletBC(W.sub(1), df.Constant(0.0), surface_ext)\n",
    "\n",
    "bcs = [bc_ampl, bc_phase]"
   ]
  },
  {
   "cell_type": "code",
   "execution_count": 337,
   "metadata": {},
   "outputs": [],
   "source": [
    "# Define input data\n",
    "\n",
    "f = df.Constant(.0)\n",
    "\n",
    "L = f*v_r*df.dx + f*v_i*df.dx"
   ]
  },
  {
   "cell_type": "code",
   "execution_count": 338,
   "metadata": {},
   "outputs": [],
   "source": [
    "# Solve problem\n",
    "u = df.Function(W)\n",
    "df.solve(a == L, u, bcs)"
   ]
  },
  {
   "cell_type": "code",
   "execution_count": 348,
   "metadata": {},
   "outputs": [
    {
     "data": {
      "image/png": "[encoded data removed]",
      "text/latex": [
       "${\\left({w_h^1557}\\right)}:{\\left({w_h^1557}\\right)}$"
      ],
      "text/plain": [
       "Inner(Coefficient(FunctionSpace(Mesh(VectorElement(FiniteElement('Lagrange', triangle, 1), dim=2), 1536), MixedElement(FiniteElement('Lagrange', triangle, 2), FiniteElement('Lagrange', triangle, 2))), 1557), Coefficient(FunctionSpace(Mesh(VectorElement(FiniteElement('Lagrange', triangle, 1), dim=2), 1536), MixedElement(FiniteElement('Lagrange', triangle, 2), FiniteElement('Lagrange', triangle, 2))), 1557))"
      ]
     },
     "execution_count": 348,
     "metadata": {},
     "output_type": "execute_result"
    }
   ],
   "source": [
    "u**2"
   ]
  },
  {
   "cell_type": "code",
   "execution_count": 346,
   "metadata": {},
   "outputs": [
    {
     "name": "stdout",
     "output_type": "stream",
     "text": [
      "Calling FFC just-in-time (JIT) compiler, this may take some time.\n"
     ]
    },
    {
     "data": {
      "text/plain": [
       "<matplotlib.tri.tricontour.TriContourSet at 0x7facf0097d30>"
      ]
     },
     "execution_count": 346,
     "metadata": {},
     "output_type": "execute_result"
    },
    {
     "data": {
      "image/png": "[encoded data removed]",
      "text/plain": [
       "<matplotlib.figure.Figure at 0x7facf24b0940>"
      ]
     },
     "metadata": {
      "needs_background": "light"
     },
     "output_type": "display_data"
    }
   ],
   "source": [
    "df.plot(u**2)"
   ]
  },
  {
   "cell_type": "code",
   "execution_count": 340,
   "metadata": {},
   "outputs": [
    {
     "data": {
      "text/plain": [
       "<matplotlib.tri.tricontour.TriContourSet at 0x7facf1166828>"
      ]
     },
     "execution_count": 340,
     "metadata": {},
     "output_type": "execute_result"
    },
    {
     "data": {
      "image/png": "[encoded data removed]",
      "text/plain": [
       "<matplotlib.figure.Figure at 0x7facf1143780>"
      ]
     },
     "metadata": {
      "needs_background": "light"
     },
     "output_type": "display_data"
    }
   ],
   "source": [
    "df.plot(u.sub(1))"
   ]
  },
  {
   "cell_type": "code",
   "execution_count": 341,
   "metadata": {},
   "outputs": [],
   "source": [
    "import numpy as np"
   ]
  },
  {
   "cell_type": "code",
   "execution_count": 342,
   "metadata": {},
   "outputs": [],
   "source": [
    "x_plot = np.linspace(0, 6, 50)\n",
    "sol_complex = np.array([u([x, 0]) for x in x_plot])"
   ]
  },
  {
   "cell_type": "code",
   "execution_count": 343,
   "metadata": {},
   "outputs": [],
   "source": [
    "amplitude = np.sqrt( np.sum(sol_complex**2, axis=1) )\n",
    "phase = np.arctan2(sol_complex[:, 1], sol_complex[:, 0])"
   ]
  },
  {
   "cell_type": "code",
   "execution_count": 344,
   "metadata": {},
   "outputs": [
    {
     "data": {
      "image/png": "[encoded data removed]",
      "text/plain": [
       "<matplotlib.figure.Figure at 0x7facf25d6978>"
      ]
     },
     "metadata": {
      "needs_background": "light"
     },
     "output_type": "display_data"
    }
   ],
   "source": [
    "plt.plot(x_plot, amplitude, label=\"amplitude\")\n",
    "#plt.plot(x_plot, phase, label=\"phase\")\n",
    "plt.plot(x_plot, np.exp(-x_plot), 'r', linewidth=1, label=\"theorie\")\n",
    "plt.legend(); plt.xlabel('x');"
   ]
  },
  {
   "cell_type": "markdown",
   "metadata": {},
   "source": [
    "## Post process"
   ]
  },
  {
   "cell_type": "code",
   "execution_count": null,
   "metadata": {},
   "outputs": [],
   "source": [
    "# Length of the interior boundary:\n",
    "L_int = df.assemble( df.Constant(1.)*ds(2) )\n",
    "print(L_int)"
   ]
  },
  {
   "cell_type": "code",
   "execution_count": null,
   "metadata": {},
   "outputs": [],
   "source": [
    "# Flux chaleur moyen vers le sol:\n",
    "df.assemble( df.Dx(u, 1)*ds(2) )/L_int"
   ]
  },
  {
   "cell_type": "code",
   "execution_count": null,
   "metadata": {},
   "outputs": [],
   "source": [
    "# Flux sortant de domain\n",
    "n = df.FacetNormal(mesh)\n",
    "flux_1 = df.assemble(df.dot(df.grad(u), n)*ds(1))\n",
    "flux_1"
   ]
  },
  {
   "cell_type": "code",
   "execution_count": null,
   "metadata": {},
   "outputs": [],
   "source": []
  }
 ],
 "metadata": {
  "kernelspec": {
   "display_name": "pythonicFEM",
   "language": "python",
   "name": "pythonicfem"
  },
  "language_info": {
   "codemirror_mode": {
    "name": "ipython",
    "version": 3
   },
   "file_extension": ".py",
   "mimetype": "text/x-python",
   "name": "python",
   "nbconvert_exporter": "python",
   "pygments_lexer": "ipython3",
   "version": "3.5.2"
  }
 },
 "nbformat": 4,
 "nbformat_minor": 2
}
