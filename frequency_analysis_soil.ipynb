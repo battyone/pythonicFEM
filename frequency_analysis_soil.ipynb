{
 "cells": [
  {
   "cell_type": "markdown",
   "metadata": {},
   "source": [
    "# Frequency analysis\n",
    "\n",
    "$$\n",
    "\\dot T = \\kappa \\, \\nabla^2 T + f\n",
    "$$\n",
    "\n",
    "\n",
    "$$\n",
    "T = \\tilde T \\, e^{iwt}\n",
    "$$\n",
    "\n",
    "\n",
    "$$\n",
    "iw\\, \\tilde T - \\kappa \\, \\nabla^2 \\tilde T = f\n",
    "$$\n",
    "\n",
    "$$\n",
    "\\int iw\\, \\tilde T \\, v\\, dx - \\kappa  \\int \\nabla^2 \\tilde T v\\, dx = \\int f v\\, dx\n",
    "$$\n",
    "\n",
    "$$\n",
    " +\\kappa \\int \\nabla \\tilde T \\nabla v\\, dx  - \\kappa \\int \\nabla T v \\, ds +  \\int iw\\, \\tilde T \\, v\\, dx = \\int f v\\, dx\n",
    "$$\n",
    "\n",
    "Longueur de la zone chauffé: $L=1$"
   ]
  },
  {
   "cell_type": "code",
   "execution_count": 97,
   "metadata": {},
   "outputs": [],
   "source": [
    "import dolfin as df\n",
    "import matplotlib.pyplot as plt\n",
    "\n",
    "import mshr\n",
    "\n",
    "import numpy as np"
   ]
  },
  {
   "cell_type": "code",
   "execution_count": 98,
   "metadata": {},
   "outputs": [],
   "source": [
    "# Geometry and Mesh\n",
    "isolation_depth = .5\n",
    "isolation_thickness = .06\n",
    "house_half_size = 4\n",
    "domain_size = 12\n",
    "\n",
    "domain = mshr.Rectangle(df.Point(-domain_size, -1.5*domain_size), df.Point(house_half_size, 0.))\n",
    "isolation = mshr.Rectangle(df.Point(0.0, -isolation_depth), df.Point(isolation_thickness, .0))"
   ]
  },
  {
   "cell_type": "code",
   "execution_count": 99,
   "metadata": {},
   "outputs": [
    {
     "data": {
      "image/png": "[encoded data removed]",
      "text/plain": [
       "<matplotlib.figure.Figure at 0x7f8fa2a652b0>"
      ]
     },
     "metadata": {
      "needs_background": "light"
     },
     "output_type": "display_data"
    }
   ],
   "source": [
    "mesh = mshr.generate_mesh(domain, 105)\n",
    "\n",
    "df.plot(mesh);"
   ]
  },
  {
   "cell_type": "markdown",
   "metadata": {},
   "source": [
    "## boundary conditions"
   ]
  },
  {
   "cell_type": "code",
   "execution_count": 100,
   "metadata": {},
   "outputs": [],
   "source": [
    "class SurfaceExt(df.SubDomain):\n",
    "    def inside(self, x, on_boundary):\n",
    "        surface = on_boundary and\\\n",
    "                  df.near(x[1], 0, df.DOLFIN_EPS) and x[0]<df.DOLFIN_EPS\n",
    "        return surface\n",
    "    \n",
    "class SurfaceInt(df.SubDomain):\n",
    "    def inside(self, x, on_boundary):\n",
    "        return on_boundary and\\\n",
    "               df.near(x[1], 0, df.DOLFIN_EPS) and x[0]>isolation_thickness-df.DOLFIN_EPS\n",
    "\n",
    "class DomainBoundary(df.SubDomain):    \n",
    "    def inside(self, x, on_boundary):\n",
    "\n",
    "        left_side = df.near(x[0], -domain_size, df.DOLFIN_EPS)\n",
    "        bottom_side = df.near(x[1], -1.5*domain_size, df.DOLFIN_EPS)\n",
    "        return left_side or bottom_side\n",
    "    \n",
    "surface_ext = SurfaceExt()\n",
    "surface_int = SurfaceInt()\n",
    "domain_bound = DomainBoundary()\n",
    "\n",
    "# MeshFunctions marking boundary and cell parts\n",
    "boundary_markers = df.FacetFunction(\"size_t\", mesh)\n",
    "cell_markers = df.CellFunction(\"size_t\", mesh)\n",
    "\n",
    "markers = df.MeshFunction('size_t', mesh, 2, mesh.domains())"
   ]
  },
  {
   "cell_type": "code",
   "execution_count": 101,
   "metadata": {},
   "outputs": [],
   "source": [
    "boundary_markers.set_all(0)\n",
    "surface_ext.mark(boundary_markers, 1)\n",
    "surface_int.mark(boundary_markers, 2)\n",
    "domain_bound.mark(boundary_markers, 3)\n",
    "\n",
    "# boundary_markers.array())"
   ]
  },
  {
   "cell_type": "code",
   "execution_count": 102,
   "metadata": {},
   "outputs": [],
   "source": [
    "dx = df.Measure('dx', domain=mesh, subdomain_data=markers)\n",
    "ds = df.Measure('ds', domain=mesh, subdomain_data=boundary_markers)"
   ]
  },
  {
   "cell_type": "markdown",
   "metadata": {},
   "source": [
    "https://fenics.readthedocs.io/projects/dolfin/en/2017.2.0/demos/cahn-hilliard/python/demo_cahn-hilliard.py.html"
   ]
  },
  {
   "cell_type": "code",
   "execution_count": 103,
   "metadata": {},
   "outputs": [],
   "source": [
    "P1 = df.FiniteElement(\"Lagrange\", mesh.ufl_cell(), 2)\n",
    "W = df.FunctionSpace(mesh, P1*P1)"
   ]
  },
  {
   "cell_type": "code",
   "execution_count": 104,
   "metadata": {},
   "outputs": [],
   "source": [
    "(u_r, u_i) = df.TrialFunctions(W)\n",
    "(v_r, v_i) = df.TestFunctions(W)\n",
    "\n",
    "grad = df.grad\n",
    "kappa = 1e-6\n",
    "w = 2*np.pi / (24 * 60 * 60 * 365)\n",
    "\n",
    "a_r = kappa*( df.inner(grad(u_r),grad(v_r))*df.dx - df.inner(grad(u_i),grad(v_i))*df.dx )\\\n",
    "      - w * u_i*v_i*df.dx\n",
    "a_i = kappa*( df.inner(grad(u_r),grad(v_i))*df.dx + df.inner(grad(u_i),grad(v_r))*df.dx )\\\n",
    "      + w * u_r*v_r*df.dx\n",
    "\n",
    "\n",
    "a = a_i + a_r"
   ]
  },
  {
   "cell_type": "code",
   "execution_count": 105,
   "metadata": {},
   "outputs": [],
   "source": [
    "# Define boundary condition\n",
    "\n",
    "bc_ext_amp = df.DirichletBC(W.sub(0), df.Constant(1.0), surface_ext)\n",
    "bc_ext_phase = df.DirichletBC(W.sub(1), df.Constant(.0), surface_ext)\n",
    "\n",
    "bcs = [bc_ext_amp, bc_ext_phase]"
   ]
  },
  {
   "cell_type": "code",
   "execution_count": 106,
   "metadata": {},
   "outputs": [],
   "source": [
    "# Define input data\n",
    "\n",
    "f = df.Constant(.0)\n",
    "\n",
    "L = f*v_r*df.dx + f*v_i*df.dx"
   ]
  },
  {
   "cell_type": "code",
   "execution_count": 107,
   "metadata": {},
   "outputs": [
    {
     "name": "stdout",
     "output_type": "stream",
     "text": [
      "Calling FFC just-in-time (JIT) compiler, this may take some time.\n"
     ]
    }
   ],
   "source": [
    "# Solve problem\n",
    "u = df.Function(W)\n",
    "df.solve(a == L, u, bcs)"
   ]
  },
  {
   "cell_type": "code",
   "execution_count": 108,
   "metadata": {},
   "outputs": [],
   "source": [
    "uu = u.vector()"
   ]
  },
  {
   "cell_type": "code",
   "execution_count": 109,
   "metadata": {},
   "outputs": [
    {
     "data": {
      "image/png": "[encoded data removed]",
      "text/plain": [
       "<matplotlib.figure.Figure at 0x7f8fa2a65b38>"
      ]
     },
     "metadata": {
      "needs_background": "light"
     },
     "output_type": "display_data"
    }
   ],
   "source": [
    "ax = df.plot( df.dot(u,u) )\n",
    "plt.colorbar(ax);"
   ]
  },
  {
   "cell_type": "code",
   "execution_count": 110,
   "metadata": {},
   "outputs": [
    {
     "data": {
      "text/plain": [
       "<matplotlib.text.Text at 0x7f8fa4989630>"
      ]
     },
     "execution_count": 110,
     "metadata": {},
     "output_type": "execute_result"
    },
    {
     "data": {
      "image/png": "[encoded data removed]",
      "text/plain": [
       "<matplotlib.figure.Figure at 0x7f8fa3617ac8>"
      ]
     },
     "metadata": {
      "needs_background": "light"
     },
     "output_type": "display_data"
    }
   ],
   "source": [
    "plt.figure(figsize=(12, 8))\n",
    "ax = df.plot( df.sqrt( u.sub(1)**2 + u.sub(0)**2 ))\n",
    "plt.xlabel('x [m]');\n",
    "plt.ylabel('depth [m]');\n",
    "plt.xlim([-2, 2]); plt.ylim([-2, 0]);\n",
    "plt.colorbar(ax); plt.title('amplitude')\n"
   ]
  },
  {
   "cell_type": "code",
   "execution_count": 111,
   "metadata": {},
   "outputs": [
    {
     "data": {
      "image/png": "[encoded data removed]",
      "text/plain": [
       "<matplotlib.figure.Figure at 0x7f8fa373fa58>"
      ]
     },
     "metadata": {
      "needs_background": "light"
     },
     "output_type": "display_data"
    }
   ],
   "source": [
    "ax = df.plot( df.atan(u.sub(1)/u.sub(0)) )\n",
    "plt.colorbar(ax); plt.title('phase');"
   ]
  },
  {
   "cell_type": "code",
   "execution_count": 341,
   "metadata": {},
   "outputs": [],
   "source": [
    "import numpy as np"
   ]
  },
  {
   "cell_type": "code",
   "execution_count": 342,
   "metadata": {},
   "outputs": [],
   "source": [
    "x_plot = np.linspace(0, 6, 50)\n",
    "sol_complex = np.array([u([x, 0]) for x in x_plot])"
   ]
  },
  {
   "cell_type": "code",
   "execution_count": 343,
   "metadata": {},
   "outputs": [],
   "source": [
    "amplitude = np.sqrt( np.sum(sol_complex**2, axis=1) )\n",
    "phase = np.arctan2(sol_complex[:, 1], sol_complex[:, 0])"
   ]
  },
  {
   "cell_type": "code",
   "execution_count": 344,
   "metadata": {},
   "outputs": [
    {
     "data": {
      "image/png": "[encoded data removed]",
      "text/plain": [
       "<matplotlib.figure.Figure at 0x7facf25d6978>"
      ]
     },
     "metadata": {
      "needs_background": "light"
     },
     "output_type": "display_data"
    }
   ],
   "source": [
    "plt.plot(x_plot, amplitude, label=\"amplitude\")\n",
    "#plt.plot(x_plot, phase, label=\"phase\")\n",
    "plt.plot(x_plot, np.exp(-x_plot), 'r', linewidth=1, label=\"theorie\")\n",
    "plt.legend(); plt.xlabel('x');"
   ]
  },
  {
   "cell_type": "markdown",
   "metadata": {},
   "source": [
    "## Post process"
   ]
  },
  {
   "cell_type": "code",
   "execution_count": null,
   "metadata": {},
   "outputs": [],
   "source": [
    "# Length of the interior boundary:\n",
    "L_int = df.assemble( df.Constant(1.)*ds(2) )\n",
    "print(L_int)"
   ]
  },
  {
   "cell_type": "code",
   "execution_count": null,
   "metadata": {},
   "outputs": [],
   "source": [
    "# Flux chaleur moyen vers le sol:\n",
    "df.assemble( df.Dx(u, 1)*ds(2) )/L_int"
   ]
  },
  {
   "cell_type": "code",
   "execution_count": null,
   "metadata": {},
   "outputs": [],
   "source": [
    "# Flux sortant de domain\n",
    "n = df.FacetNormal(mesh)\n",
    "flux_1 = df.assemble(df.dot(df.grad(u), n)*ds(1))\n",
    "flux_1"
   ]
  },
  {
   "cell_type": "code",
   "execution_count": null,
   "metadata": {},
   "outputs": [],
   "source": []
  }
 ],
 "metadata": {
  "kernelspec": {
   "display_name": "pythonicFEM",
   "language": "python",
   "name": "pythonicfem"
  },
  "language_info": {
   "codemirror_mode": {
    "name": "ipython",
    "version": 3
   },
   "file_extension": ".py",
   "mimetype": "text/x-python",
   "name": "python",
   "nbconvert_exporter": "python",
   "pygments_lexer": "ipython3",
   "version": "3.5.2"
  }
 },
 "nbformat": 4,
 "nbformat_minor": 2
}
