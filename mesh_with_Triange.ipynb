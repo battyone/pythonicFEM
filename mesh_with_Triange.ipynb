{
 "cells": [
  {
   "cell_type": "code",
   "execution_count": 1,
   "metadata": {},
   "outputs": [
    {
     "name": "stdout",
     "output_type": "stream",
     "text": [
      "Collecting triangle\n",
      "\u001b[?25l  Downloading https://files.pythonhosted.org/packages/81/9d/b9e23bbe350aea03c6fac64f0cc2e15b4f2aded2fea42ad89d7a32fb6afd/triangle-20190115.1.tar.gz (1.6MB)\n",
      "\u001b[K    100% |████████████████████████████████| 1.6MB 844kB/s ta 0:00:01\n",
      "\u001b[?25hRequirement already satisfied: numpy in /home/etienne/.local/lib/python3.5/site-packages (from triangle) (1.13.0)\n",
      "Building wheels for collected packages: triangle\n",
      "  Building wheel for triangle (setup.py) ... \u001b[?25ldone\n",
      "\u001b[?25h  Stored in directory: /home/etienne/.cache/pip/wheels/d1/42/6d/c8e60fc311e60e56dee137292c31e4c3034e699ecc4329e64a\n",
      "Successfully built triangle\n",
      "Installing collected packages: triangle\n",
      "Successfully installed triangle-20190115.1\n",
      "\u001b[33mYou are using pip version 19.0.1, however version 19.0.2 is available.\n",
      "You should consider upgrading via the 'pip install --upgrade pip' command.\u001b[0m\n"
     ]
    }
   ],
   "source": []
  },
  {
   "cell_type": "code",
   "execution_count": 38,
   "metadata": {},
   "outputs": [],
   "source": [
    "import matplotlib.pyplot as plt\n",
    "import numpy as np"
   ]
  },
  {
   "cell_type": "markdown",
   "metadata": {},
   "source": [
    "# Mesh with Triangle\n",
    "\n",
    "https://rufat.be/triangle/API.html?highlight=node\n",
    "\n",
    "http://www.cs.cmu.edu/~quake/triangle.html\n",
    "\n",
    "    $ pip install triangle"
   ]
  },
  {
   "cell_type": "code",
   "execution_count": 39,
   "metadata": {},
   "outputs": [],
   "source": [
    "import triangle as tr"
   ]
  },
  {
   "cell_type": "code",
   "execution_count": 54,
   "metadata": {},
   "outputs": [
    {
     "data": {
      "image/png": "[encoded data removed]",
      "text/plain": [
       "<matplotlib.figure.Figure at 0x7f8620d5b550>"
      ]
     },
     "metadata": {
      "needs_background": "light"
     },
     "output_type": "display_data"
    }
   ],
   "source": [
    "A = dict(vertices=np.array(((0, 0), (1, 0), (1, 1.4), (0, 1.5))),\n",
    "         segments=np.array([[0, 1], [1, 2], [2, 3], [3, 0], [1, 3]]),\n",
    "         regions=np.array([[.1, .5, 1, 0.02],]))\n",
    "\n",
    "B = tr.triangulate(A, 'paq')\n",
    "tr.compare(plt, A, B)\n",
    "plt.show()"
   ]
  },
  {
   "cell_type": "markdown",
   "metadata": {},
   "source": [
    " ### Writing a .poly file\n",
    " \n",
    " doc:  \n",
    " \n",
    "     .poly files\n",
    "\n",
    "        First line: <# of vertices> <dimension (must be 2)> <# of attributes> <# of boundary markers (0 or 1)>\n",
    "        Following lines: <vertex #> <x> <y> [attributes] [boundary marker]\n",
    "        One line: <# of segments> <# of boundary markers (0 or 1)>\n",
    "        Following lines: <segment #> <endpoint> <endpoint> [boundary marker]\n",
    "        One line: <# of holes>\n",
    "        Following lines: <hole #> <x> <y>\n",
    "        Optional line: <# of regional attributes and/or area constraints>\n",
    "        Optional following lines: <region #> <x> <y> <attribute> <maximum area> "
   ]
  },
  {
   "cell_type": "code",
   "execution_count": 200,
   "metadata": {},
   "outputs": [],
   "source": [
    "import matplotlib.pylab as plt\n",
    "import numpy as np"
   ]
  },
  {
   "cell_type": "code",
   "execution_count": 252,
   "metadata": {},
   "outputs": [],
   "source": [
    "class Geometry(object):\n",
    "    def __init__(self):\n",
    "        self.vertices = {}\n",
    "        self.segments = []\n",
    "        self.holes = []\n",
    "        \n",
    "    def add_vertex(self, name, *coords, attributes=None, marker=None):\n",
    "        if name not in self.vertices:\n",
    "            self.vertices[name] = {'coords':coords,\n",
    "                                   'attributes':attributes,\n",
    "                                   'marker':marker}\n",
    "        else:\n",
    "            print('Vertex %s already exists' % name)\n",
    "            \n",
    "    def add_segment(self, start_point, end_point, marker=None):\n",
    "        self.segments.append({\n",
    "            'start':start_point,\n",
    "            'end':end_point,\n",
    "            'marker':marker\n",
    "        })\n",
    "        \n",
    "    def add_hole(self, *coords):\n",
    "        self.holes.append(coords)\n",
    "        \n",
    "    def plot(self):\n",
    "        plt.figure();\n",
    "        coords = np.array([v['coords'] for v in self.vertices.values()])\n",
    "        plt.plot(coords[:, 0], coords[:, 1], 'ok', zorder=1)\n",
    "        \n",
    "        for segment in self.segments:               \n",
    "            xa, ya = self.vertices[segment['start']]['coords']\n",
    "            xb, yb = self.vertices[segment['end']]['coords']\n",
    "            plt.plot([xa, xb], [ya, yb], 'r-', zorder=0)\n",
    "        \n",
    "        plt.axis('equal');\n",
    "        \n",
    "    def close(self, *list_of_vertex, marker=None):\n",
    "        for k in range(len(list_of_vertex)-1):\n",
    "            self.add_segment(list_of_vertex[k], list_of_vertex[k+1],\n",
    "                             marker=marker)\n",
    "            \n",
    "        self.add_segment(list_of_vertex[k+1], list_of_vertex[0],\n",
    "                         marker=marker)"
   ]
  },
  {
   "cell_type": "code",
   "execution_count": 255,
   "metadata": {},
   "outputs": [],
   "source": [
    "geo = Geometry()\n",
    "geo.add_vertex('A', 0, 0)\n",
    "geo.add_vertex('B', 1, 0)\n",
    "geo.add_vertex('C', 1, 1)\n",
    "geo.add_vertex('D', 0, 1)\n",
    "\n",
    "geo.add_vertex('hE', .6, .8)\n",
    "geo.add_vertex('hF', .8, .8)\n",
    "geo.add_vertex('hG', .8, .6)\n",
    "\n",
    "geo.close('hE', 'hF', 'hG', marker='hole')\n",
    "geo.add_hole(0, 0)\n",
    "\n",
    "geo.close('A', 'B', 'C', 'D', marker='square')"
   ]
  },
  {
   "cell_type": "code",
   "execution_count": 261,
   "metadata": {},
   "outputs": [],
   "source": [
    "geo.add_segment(A, 'C')"
   ]
  },
  {
   "cell_type": "code",
   "execution_count": 262,
   "metadata": {},
   "outputs": [
    {
     "data": {
      "image/png": "[encoded data removed]",
      "text/plain": [
       "<matplotlib.figure.Figure at 0x7f8620e4c978>"
      ]
     },
     "metadata": {
      "needs_background": "light"
     },
     "output_type": "display_data"
    }
   ],
   "source": [
    "geo.plot()"
   ]
  },
  {
   "cell_type": "code",
   "execution_count": 258,
   "metadata": {
    "scrolled": true
   },
   "outputs": [
    {
     "data": {
      "text/plain": [
       "[(0, 0)]"
      ]
     },
     "execution_count": 258,
     "metadata": {},
     "output_type": "execute_result"
    }
   ],
   "source": [
    "geo.holes\n",
    "\n",
    "vertices = ((0, 0), (1, 0), (1, 1.4), (0, 1.5))\n",
    "\n",
    "segments=np.array([[0, 1], [1, 2], [2, 3], [3, 0], [1, 3]])\n",
    "\n",
    "nbr_vertices = len(vertices)\n",
    "nbr_vertex_attributes = 0\n",
    "nbr_vertex_boundary_markers = 0\n",
    "nbr_boundary_markers = 1  # on segments\n",
    "\n",
    "# Vertices\n",
    "lines = '{} 2 {} {}\\n'.format(len(vertices),\n",
    "                              nbr_vertex_attributes,\n",
    "                             nbr_vertex_boundary_markers)\n",
    "\n",
    "for i, (x, y) in enumerate(vertices):\n",
    "    lines +=  '{} {} {}\\n'.format(i, x, y)\n",
    "\n",
    "# Segments\n",
    "lines += '{} {}\\n'.format(len(segments), nbr_vertex_boundary_markers)\n",
    "\n",
    "for i, (u, v) in enumerate(segments):\n",
    "    lines +=  '{} {} {}\\n'.format(i, u, v)\n",
    "\n",
    "# holes\n",
    "lines += '0'\n",
    "\n",
    "print(lines)"
   ]
  },
  {
   "cell_type": "code",
   "execution_count": 134,
   "metadata": {},
   "outputs": [],
   "source": [
    "with open(\"test.poly\", \"w\") as f:\n",
    "    f.write(lines.strip('\\n'))"
   ]
  },
  {
   "cell_type": "markdown",
   "metadata": {},
   "source": [
    "## Mesh with meshPy\n"
   ]
  },
  {
   "cell_type": "code",
   "execution_count": 12,
   "metadata": {},
   "outputs": [],
   "source": [
    "import meshpy.triangle as triangle\n",
    "\n",
    "import matplotlib.pyplot as plt\n",
    "import numpy as np"
   ]
  },
  {
   "cell_type": "code",
   "execution_count": 13,
   "metadata": {},
   "outputs": [],
   "source": [
    "def round_trip_connect(start, end):\n",
    "    return [(i, i+1) for i in range(start, end)] + [(end, start)]"
   ]
  },
  {
   "cell_type": "code",
   "execution_count": 24,
   "metadata": {},
   "outputs": [],
   "source": [
    "points = [(0, 0), (1, 0), (1, 1), (0, 1)]\n",
    "segments = [[0, 1], [1, 2], [2, 3], [3, 0], [0, 2]]"
   ]
  },
  {
   "cell_type": "code",
   "execution_count": 37,
   "metadata": {},
   "outputs": [
    {
     "data": {
      "image/png": "[encoded data removed]",
      "text/plain": [
       "<matplotlib.figure.Figure at 0x7f8620d12f60>"
      ]
     },
     "metadata": {
      "needs_background": "light"
     },
     "output_type": "display_data"
    }
   ],
   "source": [
    "info = triangle.MeshInfo()\n",
    "info.set_points(points)\n",
    "#info.set_holes([(0.1, .2)])\n",
    "\n",
    "info.set_facets(segments)\n",
    "info.set_points?\n",
    "\n",
    "mesh = triangle.build(info,\n",
    "                      volume_constraints=True,\n",
    "                      max_volume=.1)#, refinement_func=needs_refinement)\n",
    "\n",
    "mesh_points = np.array(mesh.points)\n",
    "mesh_tris = np.array(mesh.elements)\n",
    "\n",
    "\n",
    "plt.triplot(mesh_points[:, 0], mesh_points[:, 1], mesh_tris)\n",
    "plt.axis('equal');"
   ]
  },
  {
   "cell_type": "code",
   "execution_count": 34,
   "metadata": {},
   "outputs": [
    {
     "data": {
      "text/plain": [
       "<meshpy._internals.RealArray at 0x7f8620c83228>"
      ]
     },
     "execution_count": 34,
     "metadata": {},
     "output_type": "execute_result"
    }
   ],
   "source": [
    "mesh.holes"
   ]
  },
  {
   "cell_type": "code",
   "execution_count": null,
   "metadata": {},
   "outputs": [],
   "source": []
  }
 ],
 "metadata": {
  "kernelspec": {
   "display_name": "pythonicFEM",
   "language": "python",
   "name": "pythonicfem"
  },
  "language_info": {
   "codemirror_mode": {
    "name": "ipython",
    "version": 3
   },
   "file_extension": ".py",
   "mimetype": "text/x-python",
   "name": "python",
   "nbconvert_exporter": "python",
   "pygments_lexer": "ipython3",
   "version": "3.5.2"
  }
 },
 "nbformat": 4,
 "nbformat_minor": 2
}
